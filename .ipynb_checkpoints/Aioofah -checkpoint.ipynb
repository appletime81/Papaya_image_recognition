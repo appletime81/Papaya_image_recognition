{
  "nbformat": 4,
  "nbformat_minor": 0,
  "metadata": {
    "kernelspec": {
      "name": "python3",
      "display_name": "Python 3"
    },
    "language_info": {
      "codemirror_mode": {
        "name": "ipython",
        "version": 3
      },
      "file_extension": ".py",
      "mimetype": "text/x-python",
      "name": "python",
      "nbconvert_exporter": "python",
      "pygments_lexer": "ipython3",
      "version": "3.7.6"
    },
    "colab": {
      "name": "Aioofah.ipynb",
      "provenance": [],
      "collapsed_sections": [],
      "toc_visible": true
    },
    "accelerator": "GPU"
  },
  "cells": [
    {
      "cell_type": "markdown",
      "metadata": {
        "id": "7pkSTQbnky4Q"
      },
      "source": [
        "## Connect GoogleColab"
      ]
    },
    {
      "cell_type": "code",
      "metadata": {
        "id": "gkHHMO3klUYi",
        "colab": {
          "base_uri": "https://localhost:8080/"
        },
        "outputId": "69f14d35-b9a5-4991-9c2c-d9ba83e5b831"
      },
      "source": [
        "# 如果出現了長條型的可輸入單元格 代表你曾經 授權過了 可以直接跳到下一格\n",
        "!apt-get install -y -qq software-properties-common python-software-properties module-init-tools\n",
        "!add-apt-repository -y ppa:alessandro-strada/ppa 2>&1 > /dev/null\n",
        "!apt-get update -qq 2>&1 > /dev/null\n",
        "!apt-get -y install -qq google-drive-ocamlfuse fuse\n",
        "from google.colab import auth\n",
        "auth.authenticate_user()\n",
        "from oauth2client.client import GoogleCredentials\n",
        "creds = GoogleCredentials.get_application_default()\n",
        "import getpass\n",
        "!google-drive-ocamlfuse -headless -id={creds.client_id} -secret={creds.client_secret} < /dev/null 2>&1 | grep URL\n",
        "vcode = getpass.getpass()\n",
        "!echo {vcode} | google-drive-ocamlfuse -headless -id={creds.client_id} -secret={creds.client_secret}"
      ],
      "execution_count": 1,
      "outputs": [
        {
          "output_type": "stream",
          "text": [
            "E: Package 'python-software-properties' has no installation candidate\n",
            "Selecting previously unselected package google-drive-ocamlfuse.\n",
            "(Reading database ... 160690 files and directories currently installed.)\n",
            "Preparing to unpack .../google-drive-ocamlfuse_0.7.26-0ubuntu1~ubuntu18.04.1_amd64.deb ...\n",
            "Unpacking google-drive-ocamlfuse (0.7.26-0ubuntu1~ubuntu18.04.1) ...\n",
            "Setting up google-drive-ocamlfuse (0.7.26-0ubuntu1~ubuntu18.04.1) ...\n",
            "Processing triggers for man-db (2.8.3-2ubuntu0.1) ...\n",
            "Please, open the following URL in a web browser: https://accounts.google.com/o/oauth2/auth?client_id=32555940559.apps.googleusercontent.com&redirect_uri=urn%3Aietf%3Awg%3Aoauth%3A2.0%3Aoob&scope=https%3A%2F%2Fwww.googleapis.com%2Fauth%2Fdrive&response_type=code&access_type=offline&approval_prompt=force\n",
            "··········\n",
            "Please, open the following URL in a web browser: https://accounts.google.com/o/oauth2/auth?client_id=32555940559.apps.googleusercontent.com&redirect_uri=urn%3Aietf%3Awg%3Aoauth%3A2.0%3Aoob&scope=https%3A%2F%2Fwww.googleapis.com%2Fauth%2Fdrive&response_type=code&access_type=offline&approval_prompt=force\n",
            "Please enter the verification code: Access token retrieved correctly.\n"
          ],
          "name": "stdout"
        }
      ]
    },
    {
      "cell_type": "code",
      "metadata": {
        "id": "3YBop0xilWN4"
      },
      "source": [
        "# 指定Google Drive雲端硬盤的根目錄，名為drive\n",
        "!mkdir -p drive\n",
        "!google-drive-ocamlfuse drive"
      ],
      "execution_count": 2,
      "outputs": []
    },
    {
      "cell_type": "code",
      "metadata": {
        "id": "q5GIFPI7lX14"
      },
      "source": [
        "import os\n",
        "os.chdir(\"drive\")\n",
        "if(\"Colab Notebooks\" in os.listdir()):\n",
        "  os.chdir(\"Colab Notebooks\")\n",
        "else:\n",
        "  os.mkdir(\"Colab Notebooks\")\n",
        "  os.chdir(\"Colab Notebooks\")"
      ],
      "execution_count": 3,
      "outputs": []
    },
    {
      "cell_type": "markdown",
      "metadata": {
        "id": "bUJCH3yIky4W"
      },
      "source": [
        "## 一、載入相關套件"
      ]
    },
    {
      "cell_type": "code",
      "metadata": {
        "id": "uhSAutMdky4X"
      },
      "source": [
        "# 資料處理套件\n",
        "import cv2\n",
        "import csv\n",
        "import random\n",
        "import time\n",
        "import numpy as np\n",
        "import pandas as pd\n",
        "import matplotlib.image as mpimg # mpimg 用於讀取圖片\n",
        "import matplotlib.pyplot as plt # plt 用於顯示圖片\n",
        "import seaborn as sns"
      ],
      "execution_count": 4,
      "outputs": []
    },
    {
      "cell_type": "code",
      "metadata": {
        "id": "ToAwBKMcky4b"
      },
      "source": [
        "# 設定顯示中文字體\n",
        "from matplotlib.font_manager import FontProperties\n",
        "plt.rcParams['font.sans-serif'] = ['Microsoft JhengHei'] "
      ],
      "execution_count": 5,
      "outputs": []
    },
    {
      "cell_type": "code",
      "metadata": {
        "id": "6nvC5t61ky4e"
      },
      "source": [
        "# Keras深度學習模組套件\n",
        "from keras.utils.np_utils import to_categorical\n",
        "from keras.preprocessing.image import ImageDataGenerator, array_to_img, img_to_array, load_img\n",
        "from keras.optimizers import RMSprop\n",
        "from keras.models import Sequential\n",
        "from keras import utils as np_utils\n",
        "from keras import backend as K\n",
        "from keras import optimizers"
      ],
      "execution_count": 6,
      "outputs": []
    },
    {
      "cell_type": "code",
      "metadata": {
        "id": "DNhU-tX9ky4i"
      },
      "source": [
        "# tensorflow深度學習模組套件\n",
        "from tensorflow.keras import models\n",
        "from tensorflow.keras import layers\n",
        "from tensorflow import keras\n",
        "import tensorflow as tf"
      ],
      "execution_count": 7,
      "outputs": []
    },
    {
      "cell_type": "code",
      "metadata": {
        "id": "2V7wMEdSky4n",
        "colab": {
          "base_uri": "https://localhost:8080/"
        },
        "outputId": "7a204042-fa57-4cd9-f876-1c851666bf87"
      },
      "source": [
        "# 打印相關版本\n",
        "print(pd.__version__)\n",
        "print(tf.__version__)"
      ],
      "execution_count": 8,
      "outputs": [
        {
          "output_type": "stream",
          "text": [
            "1.1.5\n",
            "2.4.1\n"
          ],
          "name": "stdout"
        }
      ]
    },
    {
      "cell_type": "code",
      "metadata": {
        "id": "pjG7ikFzky4q",
        "colab": {
          "base_uri": "https://localhost:8080/"
        },
        "outputId": "a0fea6f3-c26d-478a-ae07-25916bc4bb2d"
      },
      "source": [
        "# 查看通道位置\n",
        "print(K.image_data_format())"
      ],
      "execution_count": 9,
      "outputs": [
        {
          "output_type": "stream",
          "text": [
            "channels_last\n"
          ],
          "name": "stdout"
        }
      ]
    },
    {
      "cell_type": "code",
      "metadata": {
        "id": "6BjtqgUamoLA",
        "colab": {
          "base_uri": "https://localhost:8080/"
        },
        "outputId": "ee5c6ee4-34c9-4931-dc76-bde5c145af18"
      },
      "source": [
        "!ls"
      ],
      "execution_count": 10,
      "outputs": [
        {
          "output_type": "stream",
          "text": [
            " 「AILoofah.ipynb」的副本\n",
            " AiMango\n",
            " AIMango2.ipynb\n",
            " AIMango.ipynb\n",
            " Aioofah\n",
            " Aioofah.ipynb\n",
            "'Copy of Increase RAM Reference Notes By Techhawa .ipynb'\n",
            " drive\n",
            " log_10_20\n",
            " log_10_30\n",
            " log_1_10\n",
            " log_1_20\n",
            " log_20_30\n",
            " model1.png\n",
            "'「otter5 (de4b9433).ipynb」的副本'\n",
            " 「otter5.ipynb」的副本\n"
          ],
          "name": "stdout"
        }
      ]
    },
    {
      "cell_type": "markdown",
      "metadata": {
        "id": "UIMDkuytky4t"
      },
      "source": [
        "## 二、讀取資料"
      ]
    },
    {
      "cell_type": "code",
      "metadata": {
        "id": "qEusWerSky4u"
      },
      "source": [
        "# 讀取資料集標籤檔\n",
        "Sample_label = pd.read_csv(\"/content/drive/papaya/Sample_Label .csv\",encoding=\"utf8\")"
      ],
      "execution_count": 15,
      "outputs": []
    },
    {
      "cell_type": "code",
      "metadata": {
        "id": "o4fR0Xf2ky4x",
        "colab": {
          "base_uri": "https://localhost:8080/",
          "height": 204
        },
        "outputId": "714859a3-6810-450f-9789-8ae425213e20"
      },
      "source": [
        "# 顯示資料集標籤檔\n",
        "Sample_label.head()"
      ],
      "execution_count": 16,
      "outputs": [
        {
          "output_type": "execute_result",
          "data": {
            "text/html": [
              "<div>\n",
              "<style scoped>\n",
              "    .dataframe tbody tr th:only-of-type {\n",
              "        vertical-align: middle;\n",
              "    }\n",
              "\n",
              "    .dataframe tbody tr th {\n",
              "        vertical-align: top;\n",
              "    }\n",
              "\n",
              "    .dataframe thead th {\n",
              "        text-align: right;\n",
              "    }\n",
              "</style>\n",
              "<table border=\"1\" class=\"dataframe\">\n",
              "  <thead>\n",
              "    <tr style=\"text-align: right;\">\n",
              "      <th></th>\n",
              "      <th>image_id</th>\n",
              "      <th>label</th>\n",
              "    </tr>\n",
              "  </thead>\n",
              "  <tbody>\n",
              "    <tr>\n",
              "      <th>0</th>\n",
              "      <td>1.jpg</td>\n",
              "      <td>A</td>\n",
              "    </tr>\n",
              "    <tr>\n",
              "      <th>1</th>\n",
              "      <td>2.jpg</td>\n",
              "      <td>B</td>\n",
              "    </tr>\n",
              "    <tr>\n",
              "      <th>2</th>\n",
              "      <td>3.jpg</td>\n",
              "      <td>C</td>\n",
              "    </tr>\n",
              "    <tr>\n",
              "      <th>3</th>\n",
              "      <td>4.jpg</td>\n",
              "      <td>A</td>\n",
              "    </tr>\n",
              "    <tr>\n",
              "      <th>4</th>\n",
              "      <td>5.jpg</td>\n",
              "      <td>B</td>\n",
              "    </tr>\n",
              "  </tbody>\n",
              "</table>\n",
              "</div>"
            ],
            "text/plain": [
              "  image_id label\n",
              "0    1.jpg     A\n",
              "1    2.jpg     B\n",
              "2    3.jpg     C\n",
              "3    4.jpg     A\n",
              "4    5.jpg     B"
            ]
          },
          "metadata": {
            "tags": []
          },
          "execution_count": 16
        }
      ]
    },
    {
      "cell_type": "code",
      "metadata": {
        "id": "IzDVe5Suky40"
      },
      "source": [
        "# 串接圖片檔的路徑\n",
        "Sample_pics_path = os.path.join(\"/content/drive/papaya/Sample\")"
      ],
      "execution_count": 19,
      "outputs": []
    },
    {
      "cell_type": "code",
      "metadata": {
        "id": "uqu1heF3ky43"
      },
      "source": [
        "# 讀取路徑中的圖片\n",
        "train_papaya_fnames = os.listdir(Sample_pics_path)"
      ],
      "execution_count": 20,
      "outputs": []
    },
    {
      "cell_type": "code",
      "metadata": {
        "id": "B596KSnxky46",
        "colab": {
          "base_uri": "https://localhost:8080/"
        },
        "outputId": "8d17375d-da0d-4cc1-8607-f2147cdfbfb8"
      },
      "source": [
        "# 檢視是否有讀取到圖片\n",
        "print(train_papaya_fnames[0])\n",
        "print(train_papaya_fnames[1])\n",
        "print(train_papaya_fnames[2])\n",
        "print(train_papaya_fnames[3])"
      ],
      "execution_count": 21,
      "outputs": [
        {
          "output_type": "stream",
          "text": [
            "82.JPG\n",
            "29.JPG\n",
            "40.JPG\n",
            "185.JPG\n"
          ],
          "name": "stdout"
        }
      ]
    },
    {
      "cell_type": "code",
      "metadata": {
        "id": "__aNQ61bky49"
      },
      "source": [
        "# 用於瀏覽標籤檔的概況\n",
        "label_Survey = pd.read_csv(\"Aioofah/Sample_SurveyLabel.csv\",encoding=\"utf8\")"
      ],
      "execution_count": null,
      "outputs": []
    },
    {
      "cell_type": "code",
      "metadata": {
        "id": "-XqcvePnky4_",
        "colab": {
          "base_uri": "https://localhost:8080/",
          "height": 195
        },
        "outputId": "e7845fe5-b4f2-47e8-a62c-f66a77aeaab2"
      },
      "source": [
        "label_Survey.head()"
      ],
      "execution_count": null,
      "outputs": [
        {
          "output_type": "execute_result",
          "data": {
            "text/html": [
              "<div>\n",
              "<style scoped>\n",
              "    .dataframe tbody tr th:only-of-type {\n",
              "        vertical-align: middle;\n",
              "    }\n",
              "\n",
              "    .dataframe tbody tr th {\n",
              "        vertical-align: top;\n",
              "    }\n",
              "\n",
              "    .dataframe thead th {\n",
              "        text-align: right;\n",
              "    }\n",
              "</style>\n",
              "<table border=\"1\" class=\"dataframe\">\n",
              "  <thead>\n",
              "    <tr style=\"text-align: right;\">\n",
              "      <th></th>\n",
              "      <th>Pics</th>\n",
              "      <th>Level</th>\n",
              "    </tr>\n",
              "  </thead>\n",
              "  <tbody>\n",
              "    <tr>\n",
              "      <th>0</th>\n",
              "      <td>1.jpg</td>\n",
              "      <td>B</td>\n",
              "    </tr>\n",
              "    <tr>\n",
              "      <th>1</th>\n",
              "      <td>2.jpg</td>\n",
              "      <td>A</td>\n",
              "    </tr>\n",
              "    <tr>\n",
              "      <th>2</th>\n",
              "      <td>3.jpg</td>\n",
              "      <td>A</td>\n",
              "    </tr>\n",
              "    <tr>\n",
              "      <th>3</th>\n",
              "      <td>4.jpg</td>\n",
              "      <td>A</td>\n",
              "    </tr>\n",
              "    <tr>\n",
              "      <th>4</th>\n",
              "      <td>5.jpg</td>\n",
              "      <td>B</td>\n",
              "    </tr>\n",
              "  </tbody>\n",
              "</table>\n",
              "</div>"
            ],
            "text/plain": [
              "    Pics Level\n",
              "0  1.jpg     B\n",
              "1  2.jpg     A\n",
              "2  3.jpg     A\n",
              "3  4.jpg     A\n",
              "4  5.jpg     B"
            ]
          },
          "metadata": {
            "tags": []
          },
          "execution_count": 18
        }
      ]
    },
    {
      "cell_type": "code",
      "metadata": {
        "id": "H3qI2WNIky5C",
        "colab": {
          "base_uri": "https://localhost:8080/",
          "height": 350
        },
        "outputId": "38523151-4723-4868-99d6-f0670137453e"
      },
      "source": [
        "sns.countplot(label_Survey['Level'], hue = label_Survey[\"Level\"])"
      ],
      "execution_count": null,
      "outputs": [
        {
          "output_type": "stream",
          "text": [
            "/usr/local/lib/python3.7/dist-packages/seaborn/_decorators.py:43: FutureWarning: Pass the following variable as a keyword arg: x. From version 0.12, the only valid positional argument will be `data`, and passing other arguments without an explicit keyword will result in an error or misinterpretation.\n",
            "  FutureWarning\n"
          ],
          "name": "stderr"
        },
        {
          "output_type": "execute_result",
          "data": {
            "text/plain": [
              "<matplotlib.axes._subplots.AxesSubplot at 0x7f6313c1ea10>"
            ]
          },
          "metadata": {
            "tags": []
          },
          "execution_count": 19
        },
        {
          "output_type": "stream",
          "text": [
            "findfont: Font family ['sans-serif'] not found. Falling back to DejaVu Sans.\n"
          ],
          "name": "stderr"
        },
        {
          "output_type": "display_data",
          "data": {
            "image/png": "[encoded data removed]",
            "text/plain": [
              "<Figure size 432x288 with 1 Axes>"
            ]
          },
          "metadata": {
            "tags": [],
            "needs_background": "light"
          }
        }
      ]
    },
    {
      "cell_type": "code",
      "metadata": {
        "id": "yUHf0pcyky5G",
        "colab": {
          "base_uri": "https://localhost:8080/"
        },
        "outputId": "96f1001e-fcac-4e7f-d6ae-4687ba85ce07"
      },
      "source": [
        "sector = label_Survey.groupby('Level')\n",
        "sector.size()"
      ],
      "execution_count": null,
      "outputs": [
        {
          "output_type": "execute_result",
          "data": {
            "text/plain": [
              "Level\n",
              "A    29\n",
              "B    21\n",
              "C    23\n",
              "D    19\n",
              "dtype: int64"
            ]
          },
          "metadata": {
            "tags": []
          },
          "execution_count": 20
        }
      ]
    },
    {
      "cell_type": "markdown",
      "metadata": {
        "id": "hODXuJGeky5J"
      },
      "source": [
        "## 三、顯示芒果圖片"
      ]
    },
    {
      "cell_type": "code",
      "metadata": {
        "id": "dthK9fxzky5K",
        "colab": {
          "base_uri": "https://localhost:8080/"
        },
        "outputId": "32244dae-d109-40fd-e9f2-6976e062be56"
      },
      "source": [
        "# 讀取圖檔\n",
        "img = mpimg.imread(\"Aioofah/Sample_image/1.jpg\")\n",
        "# 查看資料型態\n",
        "type(img)"
      ],
      "execution_count": null,
      "outputs": [
        {
          "output_type": "execute_result",
          "data": {
            "text/plain": [
              "numpy.ndarray"
            ]
          },
          "metadata": {
            "tags": []
          },
          "execution_count": 21
        }
      ]
    },
    {
      "cell_type": "code",
      "metadata": {
        "id": "LBPu1SQAky5N",
        "colab": {
          "base_uri": "https://localhost:8080/"
        },
        "outputId": "26953439-0937-4ee7-e269-3fb38797b1c2"
      },
      "source": [
        "# 顯示圖片的比例\n",
        "img.shape"
      ],
      "execution_count": null,
      "outputs": [
        {
          "output_type": "execute_result",
          "data": {
            "text/plain": [
              "(1789, 1278, 3)"
            ]
          },
          "metadata": {
            "tags": []
          },
          "execution_count": 22
        }
      ]
    },
    {
      "cell_type": "code",
      "metadata": {
        "id": "yvdbgUIgky5P"
      },
      "source": [
        "# 把圖片的比例壓縮至200x300 \n",
        "res = cv2.resize(img,(200,300),interpolation=cv2.INTER_LINEAR)"
      ],
      "execution_count": null,
      "outputs": []
    },
    {
      "cell_type": "code",
      "metadata": {
        "id": "dAq7o8nWky5S",
        "colab": {
          "base_uri": "https://localhost:8080/"
        },
        "outputId": "cd7f1a09-055d-48dc-86ba-aabc3960042f"
      },
      "source": [
        "# 顯示壓縮後圖片的比例\n",
        "res.shape"
      ],
      "execution_count": null,
      "outputs": [
        {
          "output_type": "execute_result",
          "data": {
            "text/plain": [
              "(300, 200, 3)"
            ]
          },
          "metadata": {
            "tags": []
          },
          "execution_count": 24
        }
      ]
    },
    {
      "cell_type": "code",
      "metadata": {
        "id": "LsyXfF5Gky5V",
        "colab": {
          "base_uri": "https://localhost:8080/",
          "height": 248
        },
        "outputId": "9fef6300-9da0-4541-bfdd-0d60ea058531"
      },
      "source": [
        "# 顯示原圖的芒果照片\n",
        "plt.imshow(img)\n",
        "plt.axis('off')\n",
        "plt.show()"
      ],
      "execution_count": null,
      "outputs": [
        {
          "output_type": "display_data",
          "data": {
            "image/png": "[encoded data removed]",
            "text/plain": [
              "<Figure size 432x288 with 1 Axes>"
            ]
          },
          "metadata": {
            "tags": [],
            "needs_background": "light"
          }
        }
      ]
    },
    {
      "cell_type": "code",
      "metadata": {
        "id": "cAMk253Pky5X",
        "colab": {
          "base_uri": "https://localhost:8080/",
          "height": 248
        },
        "outputId": "20c1a782-793a-4bb1-9354-7faf6859c127"
      },
      "source": [
        "# 顯示壓縮過原圖的芒果照片\n",
        "plt.imshow(res)\n",
        "plt.axis('off')\n",
        "plt.show()"
      ],
      "execution_count": null,
      "outputs": [
        {
          "output_type": "display_data",
          "data": {
            "image/png": "[encoded data removed]",
            "text/plain": [
              "<Figure size 432x288 with 1 Axes>"
            ]
          },
          "metadata": {
            "tags": [],
            "needs_background": "light"
          }
        }
      ]
    },
    {
      "cell_type": "markdown",
      "metadata": {
        "id": "1Ce_FCtAky5b"
      },
      "source": [
        "## 四、製作標籤&資料集"
      ]
    },
    {
      "cell_type": "code",
      "metadata": {
        "id": "n3rX2gA5ky5c"
      },
      "source": [
        "csvfile = open('Aioofah/Sample_Label.csv')\n",
        "reader = csv.reader(csvfile)"
      ],
      "execution_count": null,
      "outputs": []
    },
    {
      "cell_type": "code",
      "metadata": {
        "id": "LXZeKFOQky5g"
      },
      "source": [
        "# 讀取csv標籤\n",
        "labels = []\n",
        "for line in reader:\n",
        "    tmp = [line[0],line[1]]\n",
        "    # print tmp\n",
        "    labels.append(tmp)\n",
        "\n",
        "csvfile.close() "
      ],
      "execution_count": null,
      "outputs": []
    },
    {
      "cell_type": "code",
      "metadata": {
        "id": "JrxY-sO6ky5i",
        "colab": {
          "base_uri": "https://localhost:8080/"
        },
        "outputId": "6291e9c8-6c21-4ccb-ba14-ce5be6342709"
      },
      "source": [
        "picnum = len(labels)\n",
        "print(\"絲瓜圖片數量: \",picnum)"
      ],
      "execution_count": null,
      "outputs": [
        {
          "output_type": "stream",
          "text": [
            "絲瓜圖片數量:  92\n"
          ],
          "name": "stdout"
        }
      ]
    },
    {
      "cell_type": "code",
      "metadata": {
        "id": "JELGmZ13ky5l",
        "colab": {
          "base_uri": "https://localhost:8080/"
        },
        "outputId": "4389d319-8c09-48a4-87ab-60579a082a82"
      },
      "source": [
        "labels[8]"
      ],
      "execution_count": null,
      "outputs": [
        {
          "output_type": "execute_result",
          "data": {
            "text/plain": [
              "['9.jpg', 'B']"
            ]
          },
          "metadata": {
            "tags": []
          },
          "execution_count": 30
        }
      ]
    },
    {
      "cell_type": "code",
      "metadata": {
        "id": "OORjRm0Sky5n"
      },
      "source": [
        "x = []\n",
        "y = []"
      ],
      "execution_count": null,
      "outputs": []
    },
    {
      "cell_type": "code",
      "metadata": {
        "id": "aG4X4zzmky5q"
      },
      "source": [
        "# 轉換圖片的標籤\n",
        "for i in range(len(labels)):\n",
        "    labels[i][1] = labels[i][1].replace(\"A\",\"0\")\n",
        "    labels[i][1] = labels[i][1].replace(\"B\",\"1\")\n",
        "    labels[i][1] = labels[i][1].replace(\"C\",\"2\")\n",
        "    labels[i][1] = labels[i][1].replace(\"D\",\"3\")"
      ],
      "execution_count": null,
      "outputs": []
    },
    {
      "cell_type": "code",
      "metadata": {
        "id": "XasMaXzVky5s"
      },
      "source": [
        "# 隨機讀取圖片\n",
        "a = 0\n",
        "items= []"
      ],
      "execution_count": null,
      "outputs": []
    },
    {
      "cell_type": "code",
      "metadata": {
        "id": "TYao-U_qky5u"
      },
      "source": [
        "import random\n",
        "for a in range(0,92):\n",
        "    items.append(a)"
      ],
      "execution_count": null,
      "outputs": []
    },
    {
      "cell_type": "code",
      "metadata": {
        "id": "sYQnxHHVky5w",
        "colab": {
          "base_uri": "https://localhost:8080/"
        },
        "outputId": "d8b9a7ab-ef19-4a0d-9b67-52a38354ea58"
      },
      "source": [
        "# 製作訓練用資料集及標籤\n",
        "for i in random.sample(items,92):\n",
        "    print(\"Aioofah/Sample_image/\" + labels[i][0])\n",
        "    img = cv2.imread(\"Aioofah/Sample_image/\" + labels[i][0] )\n",
        "    res = cv2.resize(img,(200,300),interpolation=cv2.INTER_LINEAR)\n",
        "    res = img_to_array(res)\n",
        "    x.append(res)    \n",
        "    y.append(labels[i][1])"
      ],
      "execution_count": null,
      "outputs": [
        {
          "output_type": "stream",
          "text": [
            "Aioofah/Sample_image/40.jpg\n",
            "Aioofah/Sample_image/66.jpg\n",
            "Aioofah/Sample_image/10.jpg\n",
            "Aioofah/Sample_image/82.jpg\n",
            "Aioofah/Sample_image/90.jpg\n",
            "Aioofah/Sample_image/64.jpg\n",
            "Aioofah/Sample_image/53.jpg\n",
            "Aioofah/Sample_image/22.jpg\n",
            "Aioofah/Sample_image/76.jpg\n",
            "Aioofah/Sample_image/21.jpg\n",
            "Aioofah/Sample_image/47.jpg\n",
            "Aioofah/Sample_image/67.jpg\n",
            "Aioofah/Sample_image/57.jpg\n",
            "Aioofah/Sample_image/35.jpg\n",
            "Aioofah/Sample_image/77.jpg\n",
            "Aioofah/Sample_image/3.jpg\n",
            "Aioofah/Sample_image/9.jpg\n",
            "Aioofah/Sample_image/79.jpg\n",
            "Aioofah/Sample_image/87.jpg\n",
            "Aioofah/Sample_image/59.jpg\n",
            "Aioofah/Sample_image/62.jpg\n",
            "Aioofah/Sample_image/5.jpg\n",
            "Aioofah/Sample_image/91.jpg\n",
            "Aioofah/Sample_image/46.jpg\n",
            "Aioofah/Sample_image/12.jpg\n",
            "Aioofah/Sample_image/74.jpg\n",
            "Aioofah/Sample_image/81.jpg\n",
            "Aioofah/Sample_image/73.jpg\n",
            "Aioofah/Sample_image/24.jpg\n",
            "Aioofah/Sample_image/78.jpg\n",
            "Aioofah/Sample_image/2.jpg\n",
            "Aioofah/Sample_image/28.jpg\n",
            "Aioofah/Sample_image/84.jpg\n",
            "Aioofah/Sample_image/16.jpg\n",
            "Aioofah/Sample_image/15.jpg\n",
            "Aioofah/Sample_image/30.jpg\n",
            "Aioofah/Sample_image/48.jpg\n",
            "Aioofah/Sample_image/25.jpg\n",
            "Aioofah/Sample_image/89.jpg\n",
            "Aioofah/Sample_image/55.jpg\n",
            "Aioofah/Sample_image/34.jpg\n",
            "Aioofah/Sample_image/37.jpg\n",
            "Aioofah/Sample_image/70.jpg\n",
            "Aioofah/Sample_image/36.jpg\n",
            "Aioofah/Sample_image/1.jpg\n",
            "Aioofah/Sample_image/43.jpg\n",
            "Aioofah/Sample_image/61.jpg\n",
            "Aioofah/Sample_image/26.jpg\n",
            "Aioofah/Sample_image/32.jpg\n",
            "Aioofah/Sample_image/50.jpg\n",
            "Aioofah/Sample_image/19.jpg\n",
            "Aioofah/Sample_image/33.jpg\n",
            "Aioofah/Sample_image/27.jpg\n",
            "Aioofah/Sample_image/75.jpg\n",
            "Aioofah/Sample_image/56.jpg\n",
            "Aioofah/Sample_image/45.jpg\n",
            "Aioofah/Sample_image/52.jpg\n",
            "Aioofah/Sample_image/51.jpg\n",
            "Aioofah/Sample_image/92.jpg\n",
            "Aioofah/Sample_image/86.jpg\n",
            "Aioofah/Sample_image/7.jpg\n",
            "Aioofah/Sample_image/4.jpg\n",
            "Aioofah/Sample_image/49.jpg\n",
            "Aioofah/Sample_image/80.jpg\n",
            "Aioofah/Sample_image/11.jpg\n",
            "Aioofah/Sample_image/85.jpg\n",
            "Aioofah/Sample_image/14.jpg\n",
            "Aioofah/Sample_image/29.jpg\n",
            "Aioofah/Sample_image/83.jpg\n",
            "Aioofah/Sample_image/54.jpg\n",
            "Aioofah/Sample_image/71.jpg\n",
            "Aioofah/Sample_image/44.jpg\n",
            "Aioofah/Sample_image/6.jpg\n",
            "Aioofah/Sample_image/39.jpg\n",
            "Aioofah/Sample_image/72.jpg\n",
            "Aioofah/Sample_image/38.jpg\n",
            "Aioofah/Sample_image/31.jpg\n",
            "Aioofah/Sample_image/20.jpg\n",
            "Aioofah/Sample_image/63.jpg\n",
            "Aioofah/Sample_image/13.jpg\n",
            "Aioofah/Sample_image/23.jpg\n",
            "Aioofah/Sample_image/58.jpg\n",
            "Aioofah/Sample_image/69.jpg\n",
            "Aioofah/Sample_image/68.jpg\n",
            "Aioofah/Sample_image/42.jpg\n",
            "Aioofah/Sample_image/18.jpg\n",
            "Aioofah/Sample_image/17.jpg\n",
            "Aioofah/Sample_image/41.jpg\n",
            "Aioofah/Sample_image/65.jpg\n",
            "Aioofah/Sample_image/88.jpg\n",
            "Aioofah/Sample_image/60.jpg\n",
            "Aioofah/Sample_image/8.jpg\n"
          ],
          "name": "stdout"
        }
      ]
    },
    {
      "cell_type": "code",
      "metadata": {
        "id": "iZhyU2ANky5y"
      },
      "source": [
        "y_label_org = y"
      ],
      "execution_count": null,
      "outputs": []
    },
    {
      "cell_type": "code",
      "metadata": {
        "id": "UhZQkZ91ky50",
        "colab": {
          "base_uri": "https://localhost:8080/"
        },
        "outputId": "e5193201-8a81-47ef-aeee-bdfafe73b9cc"
      },
      "source": [
        "img[0]"
      ],
      "execution_count": null,
      "outputs": [
        {
          "output_type": "execute_result",
          "data": {
            "text/plain": [
              "array([[ 88, 158, 127],\n",
              "       [ 79, 149, 118],\n",
              "       [ 75, 143, 112],\n",
              "       ...,\n",
              "       [ 81,  98,  85],\n",
              "       [ 80,  97,  84],\n",
              "       [ 83, 100,  87]], dtype=uint8)"
            ]
          },
          "metadata": {
            "tags": []
          },
          "execution_count": 39
        }
      ]
    },
    {
      "cell_type": "code",
      "metadata": {
        "id": "ss-j56J1ky54",
        "colab": {
          "base_uri": "https://localhost:8080/"
        },
        "outputId": "bf9596f3-b2f9-4f47-83dd-ee926d8f8ba8"
      },
      "source": [
        "print(len(x))\n",
        "print(len(y))"
      ],
      "execution_count": null,
      "outputs": [
        {
          "output_type": "stream",
          "text": [
            "92\n",
            "92\n"
          ],
          "name": "stdout"
        }
      ]
    },
    {
      "cell_type": "code",
      "metadata": {
        "id": "U7d5quZCky55"
      },
      "source": [
        "# 轉換至array的格式\n",
        "x = np.array(x)\n",
        "y = np.array(y)"
      ],
      "execution_count": null,
      "outputs": []
    },
    {
      "cell_type": "code",
      "metadata": {
        "id": "8BIgyAY7ky57"
      },
      "source": [
        "# 轉換至float的格式\n",
        "for i in range(len(x)):\n",
        "    x[i] = x[i].astype('float32')"
      ],
      "execution_count": null,
      "outputs": []
    },
    {
      "cell_type": "code",
      "metadata": {
        "id": "AKmCzMGsky59"
      },
      "source": [
        "# 打映圖片訓練集的概況\n",
        "# print(x[0])\n",
        "print(type(x))\n",
        "print(x.shape)\n",
        "\n",
        "print(x[0].shape)\n",
        "print(type(x[0]))"
      ],
      "execution_count": null,
      "outputs": []
    },
    {
      "cell_type": "code",
      "metadata": {
        "id": "fucIRN4Uky5_"
      },
      "source": [
        "# 將標籤轉換至float格式\n",
        "y = tf.strings.to_number(y, out_type=tf.float32)"
      ],
      "execution_count": null,
      "outputs": []
    },
    {
      "cell_type": "code",
      "metadata": {
        "id": "BlRzPppPky6B",
        "colab": {
          "base_uri": "https://localhost:8080/"
        },
        "outputId": "4afacfb8-f9d7-43df-a7be-f846811b2721"
      },
      "source": [
        "# 打映圖片標籤的概況\n",
        "print(y[0])\n",
        "print(type(y[0]))"
      ],
      "execution_count": null,
      "outputs": [
        {
          "output_type": "stream",
          "text": [
            "tf.Tensor(2.0, shape=(), dtype=float32)\n",
            "<class 'tensorflow.python.framework.ops.EagerTensor'>\n"
          ],
          "name": "stdout"
        }
      ]
    },
    {
      "cell_type": "code",
      "metadata": {
        "id": "Eq-1jCCaky6D"
      },
      "source": [
        "# 標籤進行one-hotencoding\n",
        "#y = np_utils.to_categorical(y, num_classes = 4)"
      ],
      "execution_count": null,
      "outputs": []
    },
    {
      "cell_type": "code",
      "metadata": {
        "id": "CiqdGCCAky6G",
        "colab": {
          "base_uri": "https://localhost:8080/"
        },
        "outputId": "acc5cf5c-78b2-4060-e8f2-30e01d817965"
      },
      "source": [
        "y[0]"
      ],
      "execution_count": null,
      "outputs": [
        {
          "output_type": "execute_result",
          "data": {
            "text/plain": [
              "<tf.Tensor: shape=(), dtype=float32, numpy=2.0>"
            ]
          },
          "metadata": {
            "tags": []
          },
          "execution_count": 47
        }
      ]
    },
    {
      "cell_type": "markdown",
      "metadata": {
        "id": "B_tpTHuwky6I"
      },
      "source": [
        "## 五、製作訓練資料集"
      ]
    },
    {
      "cell_type": "code",
      "metadata": {
        "id": "gcHqHmdtH8Yx"
      },
      "source": [
        "# 分配訓練集及測試集比例\n",
        "x_train = X[:84]\n",
        "y_train = y[:84]\n",
        "x_test = X[84:]\n",
        "y_test = y[84:]"
      ],
      "execution_count": null,
      "outputs": []
    },
    {
      "cell_type": "code",
      "metadata": {
        "scrolled": true,
        "id": "ik0vIZ5Yky6L",
        "colab": {
          "base_uri": "https://localhost:8080/"
        },
        "outputId": "a7986a31-1a72-4f5e-c63f-a39a0f9b0b68"
      },
      "source": [
        "y_test"
      ],
      "execution_count": null,
      "outputs": [
        {
          "output_type": "execute_result",
          "data": {
            "text/plain": [
              "<tf.Tensor: shape=(8,), dtype=float32, numpy=array([2., 2., 2., 3., 1., 0., 0., 0.], dtype=float32)>"
            ]
          },
          "metadata": {
            "tags": []
          },
          "execution_count": 49
        }
      ]
    },
    {
      "cell_type": "code",
      "metadata": {
        "id": "ZQwUinV8ky6O"
      },
      "source": [
        "y_train_label = [0.,0.,0.,0]\n",
        "\n",
        "for i in range(0,len(y_train)):\n",
        "    y_train_label = y_train[i] + y_train_label"
      ],
      "execution_count": null,
      "outputs": []
    },
    {
      "cell_type": "code",
      "metadata": {
        "id": "7mYxm5tWky6Q"
      },
      "source": [
        "y_test_label = [0.,0.,0.,0]\n",
        "\n",
        "for i in range(0,len(y_test)):\n",
        "    y_test_label = y_train[i] + y_test_label"
      ],
      "execution_count": null,
      "outputs": []
    },
    {
      "cell_type": "code",
      "metadata": {
        "id": "NeaCWuopky6S",
        "colab": {
          "base_uri": "https://localhost:8080/"
        },
        "outputId": "ea1ad7b2-5581-4c6a-aaea-eb7478f38034"
      },
      "source": [
        "y_train_label"
      ],
      "execution_count": null,
      "outputs": [
        {
          "output_type": "execute_result",
          "data": {
            "text/plain": [
              "<tf.Tensor: shape=(4,), dtype=float32, numpy=array([114., 114., 114., 114.], dtype=float32)>"
            ]
          },
          "metadata": {
            "tags": []
          },
          "execution_count": 55
        }
      ]
    },
    {
      "cell_type": "code",
      "metadata": {
        "id": "-yYjqm8Pky6T",
        "colab": {
          "base_uri": "https://localhost:8080/"
        },
        "outputId": "d5b7183a-07a5-4101-c9da-9213d02610a6"
      },
      "source": [
        "y_test_label"
      ],
      "execution_count": null,
      "outputs": [
        {
          "output_type": "execute_result",
          "data": {
            "text/plain": [
              "<tf.Tensor: shape=(4,), dtype=float32, numpy=array([9., 9., 9., 9.], dtype=float32)>"
            ]
          },
          "metadata": {
            "tags": []
          },
          "execution_count": 53
        }
      ]
    },
    {
      "cell_type": "code",
      "metadata": {
        "id": "iSR_rVMCky6V",
        "colab": {
          "base_uri": "https://localhost:8080/",
          "height": 247
        },
        "outputId": "80628684-2c34-4f59-cbc3-68bbeef1aa1f"
      },
      "source": [
        "print(type(x_train))\n",
        "print(len(x_train))\n",
        "print(x_train.shape)\n",
        "print(type(x_train[0]))"
      ],
      "execution_count": null,
      "outputs": [
        {
          "output_type": "stream",
          "text": [
            "<class 'list'>\n",
            "0\n"
          ],
          "name": "stdout"
        },
        {
          "output_type": "error",
          "ename": "AttributeError",
          "evalue": "ignored",
          "traceback": [
            "\u001b[0;31m---------------------------------------------------------------------------\u001b[0m",
            "\u001b[0;31mAttributeError\u001b[0m                            Traceback (most recent call last)",
            "\u001b[0;32m<ipython-input-54-91916a2e3d69>\u001b[0m in \u001b[0;36m<module>\u001b[0;34m()\u001b[0m\n\u001b[1;32m      1\u001b[0m \u001b[0mprint\u001b[0m\u001b[0;34m(\u001b[0m\u001b[0mtype\u001b[0m\u001b[0;34m(\u001b[0m\u001b[0mx_train\u001b[0m\u001b[0;34m)\u001b[0m\u001b[0;34m)\u001b[0m\u001b[0;34m\u001b[0m\u001b[0;34m\u001b[0m\u001b[0m\n\u001b[1;32m      2\u001b[0m \u001b[0mprint\u001b[0m\u001b[0;34m(\u001b[0m\u001b[0mlen\u001b[0m\u001b[0;34m(\u001b[0m\u001b[0mx_train\u001b[0m\u001b[0;34m)\u001b[0m\u001b[0;34m)\u001b[0m\u001b[0;34m\u001b[0m\u001b[0;34m\u001b[0m\u001b[0m\n\u001b[0;32m----> 3\u001b[0;31m \u001b[0mprint\u001b[0m\u001b[0;34m(\u001b[0m\u001b[0mx_train\u001b[0m\u001b[0;34m.\u001b[0m\u001b[0mshape\u001b[0m\u001b[0;34m)\u001b[0m\u001b[0;34m\u001b[0m\u001b[0;34m\u001b[0m\u001b[0m\n\u001b[0m\u001b[1;32m      4\u001b[0m \u001b[0mprint\u001b[0m\u001b[0;34m(\u001b[0m\u001b[0mtype\u001b[0m\u001b[0;34m(\u001b[0m\u001b[0mx_train\u001b[0m\u001b[0;34m[\u001b[0m\u001b[0;36m0\u001b[0m\u001b[0;34m]\u001b[0m\u001b[0;34m)\u001b[0m\u001b[0;34m)\u001b[0m\u001b[0;34m\u001b[0m\u001b[0;34m\u001b[0m\u001b[0m\n",
            "\u001b[0;31mAttributeError\u001b[0m: 'list' object has no attribute 'shape'"
          ]
        }
      ]
    },
    {
      "cell_type": "markdown",
      "metadata": {
        "id": "jSgZDN_Gky6X"
      },
      "source": [
        "## 六、建立與訓練深度學習Model"
      ]
    },
    {
      "cell_type": "code",
      "metadata": {
        "id": "7d3HiBH0ky6X"
      },
      "source": [
        "# 建立深度學習CNN Model\n",
        "\n",
        "model = tf.keras.Sequential()\n",
        "\n",
        "model.add(layers.Conv2D(16,(3,3),\n",
        "                 strides=(1,1),\n",
        "                 input_shape=(800, 800, 3),\n",
        "                 padding='same',\n",
        "                 activation='relu',\n",
        "                 ))\n",
        "\n",
        "model.add(layers.BatchNormalization())\n",
        "\n",
        "model.add(layers.MaxPooling2D(pool_size=(2,2),strides=None))\n",
        "\n",
        "model.add(layers.Conv2D(32,(3,3),\n",
        "                 strides=(1,1),\n",
        "                 padding='same',\n",
        "                 activation='relu',\n",
        "                 ))\n",
        "\n",
        "model.add(layers.MaxPooling2D(pool_size=(2,2),strides=None))\n",
        "\n",
        "model.add(layers.Conv2D(64,(3,3),\n",
        "                 strides=(1,1),\n",
        "                 padding='same',\n",
        "                 activation='relu',\n",
        "                 ))\n",
        "\n",
        "model.add(layers.MaxPooling2D(pool_size=(2,2),strides=None))\n",
        "\n",
        "model.add(layers.Flatten())\n",
        "\n",
        "model.add(layers.Dense(64,activation='relu'))\n",
        "\n",
        "model.add(layers.Dense(128,activation='relu'))\n",
        "\n",
        "\n",
        "model.add(layers.Dropout(0.2))\n",
        "\n",
        "model.add(layers.Dense(4,activation='softmax'))\n",
        "\n",
        "model.summary()"
      ],
      "execution_count": null,
      "outputs": []
    },
    {
      "cell_type": "markdown",
      "metadata": {
        "id": "XXgN-ONmky6c"
      },
      "source": [
        "history = model.compile(optimizer='adam',\n",
        "              loss=tf.keras.losses.SparseCategoricalCrossentropy(),\n",
        "              metrics=[tf.keras.metrics.SparseCategoricalAccuracy()])"
      ]
    },
    {
      "cell_type": "code",
      "metadata": {
        "id": "kbzQaqoVky6c"
      },
      "source": [
        "Adam = optimizers.Adam(lr=5)\n",
        "model.compile(optimizer='Adam',\n",
        "              loss=tf.keras.losses.CategoricalCrossentropy(),\n",
        "              metrics=['acc'])"
      ],
      "execution_count": null,
      "outputs": []
    },
    {
      "cell_type": "code",
      "metadata": {
        "id": "aoKLYjDwky6e"
      },
      "source": [
        "# zca_whitening 對輸入數據施加ZCA白化\n",
        "# rotation_range 數據提升時圖片隨機轉動的角度\n",
        "# width_shift_range 圖片寬度的某個比例，數據提升時圖片水平偏移的幅度\n",
        "# shear_range 剪切強度（逆時針方向的剪切變換角度）\n",
        "# zoom_range 隨機縮放的幅度\n",
        "# horizontal_flip 進行隨機水平翻轉\n",
        "# fill_mode ‘constant’，‘nearest’，‘reflect’或‘wrap’之一，當進行變換時超出邊界的點將根據本參數給定的方法進行處理\n",
        "\n",
        "datagen = ImageDataGenerator(\n",
        "    zca_whitening=False,\n",
        "    rotation_range=40,\n",
        "    width_shift_range=0.2,\n",
        "    height_shift_range=0.2,\n",
        "    shear_range=0.2,\n",
        "    zoom_range=0.2,\n",
        "    horizontal_flip=True,\n",
        "    fill_mode='nearest')"
      ],
      "execution_count": null,
      "outputs": []
    },
    {
      "cell_type": "code",
      "metadata": {
        "id": "_5jKNPtDLnHy"
      },
      "source": [
        "# 導入圖像增強參數\n",
        "datagen.fit(x_train)\n",
        "x_train = x_train/255\n",
        "x_test = x_test/255\n",
        "print('rescale！done!')"
      ],
      "execution_count": null,
      "outputs": []
    },
    {
      "cell_type": "code",
      "metadata": {
        "id": "hYT65lw9ky6h"
      },
      "source": [
        "# 設定超參數HyperParameters \n",
        "batch_size =  4\n",
        "epochs = 10"
      ],
      "execution_count": null,
      "outputs": []
    },
    {
      "cell_type": "code",
      "metadata": {
        "id": "jWzNYwUUky6i"
      },
      "source": [
        "# 檔名設定\n",
        "file_name = str(epochs)+'_'+str(batch_size)"
      ],
      "execution_count": null,
      "outputs": []
    },
    {
      "cell_type": "code",
      "metadata": {
        "id": "f_hwYf7zky6k"
      },
      "source": [
        "# 加入EarlyStopping以及Tensorboard等回調函數\n",
        "CB = tf.keras.callbacks.EarlyStopping(monitor='val_loss', patience=2)\n",
        "TB = keras.callbacks.TensorBoard(log_dir='./log'+\"_\"+file_name, histogram_freq=1)"
      ],
      "execution_count": null,
      "outputs": []
    },
    {
      "cell_type": "code",
      "metadata": {
        "id": "EK-cClUXG4E9"
      },
      "source": [
        "history = model.fit(\n",
        "    x = x_train , y = y_train,\n",
        "    batch_size = batch_size,\n",
        "    epochs = epochs,\n",
        "    validation_split = 0.2,\n",
        "    callbacks = [CB]\n",
        ")"
      ],
      "execution_count": null,
      "outputs": []
    },
    {
      "cell_type": "markdown",
      "metadata": {
        "id": "z8hITtykky6p"
      },
      "source": [
        "## 柒、繪製Model學習成效"
      ]
    },
    {
      "cell_type": "code",
      "metadata": {
        "id": "C5zs_dGRky6p"
      },
      "source": [
        "def plot_learning_curves(history):\n",
        "    pd.DataFrame(history.history).plot(figsize=(8,5))\n",
        "    plt.grid(True)\n",
        "    plt.gca().set_ylim(0,1)\n",
        "    plt.show()"
      ],
      "execution_count": null,
      "outputs": []
    },
    {
      "cell_type": "code",
      "metadata": {
        "id": "PBKx5lEAky6r"
      },
      "source": [
        "plot_learning_curves(history)"
      ],
      "execution_count": null,
      "outputs": []
    },
    {
      "cell_type": "markdown",
      "metadata": {
        "id": "9TJq37Baky6u"
      },
      "source": [
        "## 捌、推測圖片"
      ]
    },
    {
      "cell_type": "code",
      "metadata": {
        "id": "ZVMo3WKEky6u"
      },
      "source": [
        "test_Aioofah_dir = os.path.join(\"Aioofah/Test_image\")\n",
        "test_Aioofah_fnames = os.listdir(test_Aioofah_dir)"
      ],
      "execution_count": null,
      "outputs": []
    },
    {
      "cell_type": "code",
      "metadata": {
        "id": "Q3g9nZ8Nky6w"
      },
      "source": [
        "test_mango_fnames[0]"
      ],
      "execution_count": null,
      "outputs": []
    },
    {
      "cell_type": "code",
      "metadata": {
        "id": "klkQY_QCky6x"
      },
      "source": [
        "img_files = [os.path.join(test_Aioofah_dir,f) for f in test_Aioofah_fnames]\n",
        "img_path = random.choice(img_files)\n",
        "\n",
        "# 讀入待測試圖像並秀出\n",
        "img = load_img(img_path, target_size=(800, 800))  # this is a PIL image\n",
        "plt.title(img_path)\n",
        "plt.grid(False)\n",
        "plt.imshow(img)"
      ],
      "execution_count": null,
      "outputs": []
    },
    {
      "cell_type": "code",
      "metadata": {
        "id": "k43oSCmQky60"
      },
      "source": [
        "labels = ['等級A','等級B','等級C','等級D']"
      ],
      "execution_count": null,
      "outputs": []
    },
    {
      "cell_type": "code",
      "metadata": {
        "id": "e3df1ChNky61"
      },
      "source": [
        "# 將圖像轉成模型可分析格式(800x800x3, float32)\n",
        "x = img_to_array(img)  # Numpy array with shape (800, 800, 3)\n",
        "x = x.reshape((1,) + x.shape)  # Numpy array with shape (1, 800, 800, 3)\n",
        "x /= 255 # Rescale by 1/255\n",
        "\n",
        "start = time.time() # 啟動計時器\n",
        "result = model.predict(x) # 對輸入圖像進行推論(預測)\n",
        "finish = time.time() # 結束計時器\n",
        "\n",
        "pred = result.argmax(axis=1)[0]\n",
        "pred_prob = result[0][pred]\n",
        "\n",
        "print(\"Result = %f\" %pred_prob) # 印出結果可能機率值(0.0 ~ 1.0)\n",
        "print(\"Test time :%f second.\" %(finish-start)) # 印出推論時間\n",
        "\n",
        "# 設定分類門檻值並印出推論結果\n",
        "print(\"有 {:.2f}% 機率為{}\".format(pred_prob * 100,labels[pred])) # 印出推論時間"
      ],
      "execution_count": null,
      "outputs": []
    },
    {
      "cell_type": "markdown",
      "metadata": {
        "id": "y8LFpb0aky63"
      },
      "source": [
        "## 玖、測試集預測準確度"
      ]
    },
    {
      "cell_type": "code",
      "metadata": {
        "id": "UHO_AcgBky63"
      },
      "source": [
        "# 測試集標籤預測\n",
        "y_pred = model.predict(x_test)"
      ],
      "execution_count": null,
      "outputs": []
    },
    {
      "cell_type": "code",
      "metadata": {
        "id": "zz83__feky65"
      },
      "source": [
        "# 整體準確度\n",
        "count = 0\n",
        "for i in range(len(y_pred)):\n",
        "    if(np.argmax(y_pred[i]) == np.argmax(y_test[i])): #argmax函数找到最大值的索引，即为其类别\n",
        "        count += 1\n",
        "score = count/len(y_pred)\n",
        "print('正确率为:%.2f%s' % (score*100,'%'))"
      ],
      "execution_count": null,
      "outputs": []
    },
    {
      "cell_type": "code",
      "metadata": {
        "id": "zJ_qqeYbky67"
      },
      "source": [
        "# 模型預測後的標籤\n",
        "predict_label = np.argmax(y_pred,axis=1)\n",
        "print(predict_label)\n",
        "print(len(predict_label))"
      ],
      "execution_count": null,
      "outputs": []
    },
    {
      "cell_type": "code",
      "metadata": {
        "id": "U7GBs7ttky68"
      },
      "source": [
        "# 模型原標籤\n",
        "true_label = y_label_org[84:]\n",
        "true_label = np.array(true_label)\n",
        "print(true_label)\n",
        "print(len(true_label))"
      ],
      "execution_count": null,
      "outputs": []
    },
    {
      "cell_type": "code",
      "metadata": {
        "id": "wEV8ymtXky6-"
      },
      "source": [
        "# 模型預測後的標籤\n",
        "predictions = model.predict_classes(x_test)\n",
        "print(predictions)\n",
        "print(len(predictions))"
      ],
      "execution_count": null,
      "outputs": []
    },
    {
      "cell_type": "code",
      "metadata": {
        "id": "8W-hJ2mcky7A"
      },
      "source": [
        "pd.crosstab(true_label,predict_label,rownames=['實際值'],colnames=['預測值'])"
      ],
      "execution_count": null,
      "outputs": []
    },
    {
      "cell_type": "code",
      "metadata": {
        "id": "a8ddTbCIo1DZ"
      },
      "source": [
        "# 儲存模型相關參數\n",
        "# model.save('h5/'+file_name+'.h5')"
      ],
      "execution_count": null,
      "outputs": []
    }
  ]
}